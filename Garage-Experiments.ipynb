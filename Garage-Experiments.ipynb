{
 "cells": [
  {
   "cell_type": "code",
   "execution_count": 1,
   "metadata": {},
   "outputs": [],
   "source": [
    "import tensorflow as tf\n",
    "import numpy as np\n",
    "\n",
    "from garage import wrap_experiment\n",
    "from garage.envs import GymEnv, normalize\n",
    "from garage.experiment import Snapshotter\n",
    "from garage.experiment.deterministic import set_seed\n",
    "from garage.sampler import RaySampler, MultiprocessingSampler, Sampler, LocalSampler\n",
    "from garage.tf.algos import PPO\n",
    "from garage.tf.baselines import GaussianMLPBaseline\n",
    "from garage.tf.policies import GaussianMLPPolicy\n",
    "from garage.trainer import TFTrainer\n",
    "import garage\n",
    "\n",
    "from dowel import logger, tabular\n",
    "import akro\n",
    "import pandas as pd\n",
    "from multiprocessing import Pool\n"
   ]
  },
  {
   "cell_type": "code",
   "execution_count": 2,
   "metadata": {},
   "outputs": [],
   "source": [
    "def kmh_to_ms(val):\n",
    "    return val/3.6\n",
    "\n",
    "specs = {\n",
    "    \"aMax\": 2,\n",
    "    \"bMax\": 9,\n",
    "    \"bComf\": 2,\n",
    "    \"jComf\": 2,\n",
    "    \"jMax\": 20,\n",
    "    \"jMin\": 20,\n",
    "    \"tTarget\": 1,\n",
    "    \"gapMin\": 2,\n",
    "    \"vTarget\": kmh_to_ms(50),\n",
    "    \"vMax\": kmh_to_ms(150),\n",
    "    \"vMin\": 0,\n",
    "    \"timestep\": 1,\n",
    "    \"clipdist\": 500,\n",
    "    \"gamma_gap\": 1,\n",
    "    \"gamma_follow\": 1,\n",
    "    \"gamma_accel\": 1,\n",
    "    \"gamma_jerk\": 1,\n",
    "    \"gamma_crit\": 1\n",
    "}\n",
    "        "
   ]
  },
  {
   "cell_type": "code",
   "execution_count": 8,
   "metadata": {},
   "outputs": [],
   "source": [
    "snapshotter = Snapshotter()\n",
    "tf.keras.backend.clear_session()\n",
    "with tf.compat.v1.Session():\n",
    "    data = snapshotter.load('data/local/experiment/ppo_car_1', itr=0)\n",
    "    policy = data['algo'].policy\n",
    "    env = data['env']\n",
    "    paths = [garage.rollout(env, policy, deterministic=True, max_episode_length=1000) for _ in range(4)]\n"
   ]
  },
  {
   "cell_type": "code",
   "execution_count": 6,
   "metadata": {},
   "outputs": [
    {
     "data": {
      "text/plain": [
       "array([-1.], dtype=float32)"
      ]
     },
     "execution_count": 6,
     "metadata": {},
     "output_type": "execute_result"
    }
   ],
   "source": [
    "env.action_space.low"
   ]
  },
  {
   "cell_type": "code",
   "execution_count": 12,
   "metadata": {},
   "outputs": [],
   "source": [
    "path = paths[1]"
   ]
  },
  {
   "cell_type": "code",
   "execution_count": 13,
   "metadata": {},
   "outputs": [
    {
     "data": {
      "text/plain": [
       "array([0.01688409, 0.01829982, 0.01923418, 0.01961446, 0.01930594,\n",
       "       0.0358603 , 0.08863974, 0.17615438, 0.28632975, 0.39200401,\n",
       "       0.47929811, 0.5511322 , 0.61035776, 0.65850019, 0.69629788,\n",
       "       0.72435236, 0.73480821, 0.721421  , 0.69442892, 0.66223526,\n",
       "       0.62019563])"
      ]
     },
     "execution_count": 13,
     "metadata": {},
     "output_type": "execute_result"
    }
   ],
   "source": [
    "path['env_infos'][\"owncar/accel\"]"
   ]
  },
  {
   "cell_type": "code",
   "execution_count": 32,
   "metadata": {},
   "outputs": [
    {
     "data": {
      "text/plain": [
       "{'pos': 13.710673332214355,\n",
       " 'speed': 7.199314117431641,\n",
       " 'accel': 1.9717025756835938,\n",
       " 'jerk': -0.02829742431640625}"
      ]
     },
     "execution_count": 32,
     "metadata": {},
     "output_type": "execute_result"
    }
   ],
   "source": [
    "env.unwrapped.owncar.__dict__"
   ]
  },
  {
   "cell_type": "code",
   "execution_count": null,
   "metadata": {},
   "outputs": [],
   "source": []
  }
 ],
 "metadata": {
  "kernelspec": {
   "display_name": "rlagent2",
   "language": "python",
   "name": "rlagent2"
  },
  "language_info": {
   "codemirror_mode": {
    "name": "ipython",
    "version": 3
   },
   "file_extension": ".py",
   "mimetype": "text/x-python",
   "name": "python",
   "nbconvert_exporter": "python",
   "pygments_lexer": "ipython3",
   "version": "3.7.9"
  }
 },
 "nbformat": 4,
 "nbformat_minor": 4
}
