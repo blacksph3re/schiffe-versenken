{
 "cells": [
  {
   "cell_type": "code",
   "execution_count": 1,
   "metadata": {},
   "outputs": [],
   "source": [
    "import numpy as np\n",
    "import gym"
   ]
  },
  {
   "cell_type": "code",
   "execution_count": 2,
   "metadata": {},
   "outputs": [],
   "source": [
    "def kmh_to_ms(val):\n",
    "    return val/3.6"
   ]
  },
  {
   "cell_type": "code",
   "execution_count": 3,
   "metadata": {},
   "outputs": [],
   "source": [
    "ship = {\n",
    "    \"min_speed\": kmh_to_ms(6),\n",
    "    \"max_speed\": kmh_to_ms(25),\n",
    "    \"max_accel\": 0.5,\n",
    "    \"max_jerk\": 0.05,\n",
    "}\n",
    "\n",
    "\n",
    "dim = 2\n",
    "timestep = 1\n",
    "\n"
   ]
  },
  {
   "cell_type": "code",
   "execution_count": 18,
   "metadata": {},
   "outputs": [],
   "source": [
    "class ShipVector():\n",
    "    def __init__(self, pos, speed, specs):\n",
    "        self.pos = pos\n",
    "        self.speed = speed\n",
    "        self.accel = np.zeros(pos.shape)\n",
    "        self.specs = specs\n",
    "\n",
    "class ShipVectorEnv(gym.Env):\n",
    "    def __init__(self, specs, dim=1):\n",
    "        self.action_space = gym.spaces.Box(\n",
    "            low = -np.array([specs[\"max_accel\"]]),\n",
    "            high = np.array([specs[\"max_accel\"]]),\n",
    "            dtype = np.float64\n",
    "        )\n",
    "        \n",
    "        self.observation_space = gym.spaces.Box(\n",
    "            high = np.array([2000, specs[\"max_speed\"], specs[\"max_accel\"]]),\n",
    "            low = np.array([0, 0, -specs[\"max_accel\"]]),\n",
    "            dtype = np.float64\n",
    "        )\n",
    "        \n",
    "        self.metadata = None\n",
    "        \n",
    "        self.specs = specs\n",
    "        self.dim = dim\n",
    "        self.timestep = 1\n",
    "                \n",
    "        self.own_ship = ShipVector(np.zeros(self.dim), np.repeat(self.specs[\"min_speed\"]*1.2, self.dim), self.specs)\n",
    "        self.other_ship = ShipVector(np.random.uniform(100, 1000, self.dim), np.repeat(self.specs[\"min_speed\"]*1.2, self.dim), self.specs)\n",
    "        \n",
    "        self.history = []\n",
    "        \n",
    "        \n",
    "    def move_ship(self, specs, pos, speed, last_accel, accel):\n",
    "        # Limit acceleration\n",
    "        accel = np.clip(accel, -specs[\"max_accel\"], specs[\"max_accel\"])\n",
    "        \n",
    "        # Limit acceleration changes\n",
    "        # Cap higher values\n",
    "        indices = accel > last_accel + specs[\"max_jerk\"] * self.timestep\n",
    "        accel[indices] = last_accel[indices] + specs[\"max_jerk\"] * self.timestep\n",
    "\n",
    "        # Limit lower values\n",
    "        indices = accel < last_accel - specs[\"max_jerk\"] * self.timestep\n",
    "        accel[indices] = last_accel[indices] - specs[\"max_jerk\"] * self.timestep\n",
    "\n",
    "        # Apply acceleration change\n",
    "        new_speed = speed + accel * timestep\n",
    "\n",
    "        # Limit top speed\n",
    "        # Set last acceleration accordingly\n",
    "        indices = new_speed > specs[\"max_speed\"]\n",
    "        accel[indices] = (specs[\"max_speed\"] - speed[indices]) / self.timestep\n",
    "        new_speed[indices] = specs[\"max_speed\"]\n",
    "\n",
    "        speed = new_speed\n",
    "\n",
    "        pos += speed * self.timestep\n",
    "        return pos, speed, accel\n",
    "    \n",
    "    def calc_other(self):\n",
    "        # Default strategy: random walk\n",
    "        # We want to move at least at a third of the possible speed\n",
    "        too_slow = self.other_ship.speed < min(self.other_ship.specs[\"max_speed\"]/3, self.other_ship.specs[\"min_speed\"]*1.5)\n",
    "        actions = np.random.normal(0, self.other_ship.specs[\"max_accel\"], self.dim)\n",
    "        actions[too_slow] = self.other_ship.specs[\"max_accel\"]\n",
    "        \n",
    "        self.other_ship.pos, self.other_ship.speed, self.other_ship.accel = self.move_ship(self.other_ship.specs,\n",
    "                                                                                           self.other_ship.pos,\n",
    "                                                                                           self.other_ship.speed,\n",
    "                                                                                           self.other_ship.accel,\n",
    "                                                                                           actions)\n",
    "\n",
    "    \n",
    "    def encode_state(self):\n",
    "        dist = self.other_ship.pos - self.own_ship.pos\n",
    "        return np.stack([dist, self.own_ship.speed, self.own_ship.accel]).transpose(1,0)\n",
    "    \n",
    "    def calc_reward(self):\n",
    "        dist = self.other_ship.pos - self.own_ship.pos\n",
    "        \n",
    "        rewards = np.zeros(self.dim)\n",
    "                \n",
    "        # Low penalty proportional to distance\n",
    "        rewards -= dist * 0.0001\n",
    "        \n",
    "        # High penalty for lower than safety distance\n",
    "        rewards[dist < 200] = -0.5\n",
    "        \n",
    "        # Critical penalty for death\n",
    "        rewards[self.calc_death()] = -10\n",
    "        \n",
    "        return rewards\n",
    "        \n",
    "    def calc_death(self):\n",
    "        return np.logical_or(self.own_ship.speed < self.own_ship.specs[\"min_speed\"], self.own_ship.pos >= self.other_ship.pos)\n",
    "        \n",
    "    def reset(self):\n",
    "        self.own_ship = ShipVector(np.zeros(self.dim), np.repeat(self.specs[\"min_speed\"]*1.2, self.dim), self.specs)\n",
    "        self.other_ship = ShipVector(np.random.uniform(100, 1000, self.dim), np.repeat(self.specs[\"min_speed\"]*1.2, self.dim), self.specs)\n",
    "        \n",
    "        self.history = []\n",
    "        \n",
    "        return self.encode_state()\n",
    "    \n",
    "    def reset_indices(self, indices):\n",
    "        self.own_ship.pos[indices] = 0\n",
    "        self.own_ship.speed[indices] = self.specs[\"min_speed\"]*1.2\n",
    "        self.own_ship.accel[indices] = 0\n",
    "        \n",
    "        self.other_ship.pos[indices] = np.random.uniform(100, 1000, sum(indices))\n",
    "        self.other_ship.speed[indices] = self.specs[\"min_speed\"]*1.2\n",
    "        self.other_ship.accel[indices] = 0\n",
    "        \n",
    "    \n",
    "    def step(self, action):\n",
    "        self.own_ship.pos, self.own_ship.speed, self.own_ship.accel = self.move_ship(self.own_ship.specs,\n",
    "                                                                                     self.own_ship.pos,\n",
    "                                                                                     self.own_ship.speed,\n",
    "                                                                                     self.own_ship.accel,\n",
    "                                                                                     action)\n",
    "        self.calc_other()\n",
    "        \n",
    "        self.history.append(np.copy((self.own_ship.pos, self.own_ship.speed, self.own_ship.accel, self.other_ship.pos, self.other_ship.speed, self.other_ship.accel)))\n",
    "        \n",
    "        deaths = self.calc_death()\n",
    "        rewards = self.calc_reward()\n",
    "        \n",
    "        if np.any(deaths):\n",
    "            self.reset_indices(deaths)\n",
    "        \n",
    "        return self.encode_state(), rewards, deaths, None\n",
    "        \n",
    "        \n",
    "    def render(self):\n",
    "        data = np.stack(self.history)\n",
    "        \n",
    "    "
   ]
  },
  {
   "cell_type": "code",
   "execution_count": 19,
   "metadata": {},
   "outputs": [],
   "source": [
    "env = ShipVectorEnv(ship, 2)"
   ]
  },
  {
   "cell_type": "code",
   "execution_count": 20,
   "metadata": {},
   "outputs": [
    {
     "data": {
      "text/plain": [
       "array([[335.77763251,   2.        ,   0.        ],\n",
       "       [815.40263391,   2.        ,   0.        ]])"
      ]
     },
     "execution_count": 20,
     "metadata": {},
     "output_type": "execute_result"
    }
   ],
   "source": [
    "env.reset()"
   ]
  },
  {
   "cell_type": "code",
   "execution_count": 21,
   "metadata": {},
   "outputs": [],
   "source": [
    "\n",
    "for _ in range(100):\n",
    "    env.step([0.1, 0.3])"
   ]
  },
  {
   "cell_type": "code",
   "execution_count": 22,
   "metadata": {},
   "outputs": [],
   "source": [
    "x = np.stack(env.history)"
   ]
  },
  {
   "cell_type": "code",
   "execution_count": 41,
   "metadata": {},
   "outputs": [],
   "source": [
    "class ShipNormalizer(gym.Env):\n",
    "    def __init__(self, env):\n",
    "        self.env = env\n",
    "        self.metadata = env.metadata\n",
    "        \n",
    "        self.clip = 3\n",
    "        self.action_space = gym.spaces.Box(\n",
    "            low = -np.ones(env.action_space.shape),\n",
    "            high = np.ones(env.action_space.shape),\n",
    "            dtype = env.action_space.dtype\n",
    "        )\n",
    "        \n",
    "        self.observation_space = gym.spaces.Box(\n",
    "            low = -np.ones(env.observation_space.shape)*self.clip,\n",
    "            high = np.ones(env.observation_space.shape)*self.clip,\n",
    "            dtype = env.observation_space.dtype\n",
    "        )\n",
    "        \n",
    "        self.act_mean = (env.action_space.high + env.action_space.low) / 2\n",
    "        self.act_std = env.action_space.high - env.action_space.low\n",
    "        \n",
    "        self.obs_mean = (env.observation_space.high + env.observation_space.low) /2\n",
    "        self.obs_std = env.observation_space.high - env.observation_space.low\n",
    "        \n",
    "    def norm_obs(self, obs):\n",
    "        return np.clip((obs - self.obs_mean) / self.obs_std, -self.clip, self.clip)\n",
    "    \n",
    "    def norm_act(self, act):\n",
    "        return (act / 2 * self.act_std) + self.act_mean\n",
    "    \n",
    "    def reset(self):\n",
    "        return self.norm_obs(self.env.reset())\n",
    "    \n",
    "    def step(self, action):\n",
    "        action = self.norm_act(np.array(action))\n",
    "        s,r,d,i = self.env.step(action)\n",
    "        return self.norm_obs(s),r,d,i\n",
    "    \n",
    "    "
   ]
  },
  {
   "cell_type": "code",
   "execution_count": 42,
   "metadata": {},
   "outputs": [],
   "source": [
    "env2 = ShipNormalizer(env)\n"
   ]
  },
  {
   "cell_type": "code",
   "execution_count": 43,
   "metadata": {},
   "outputs": [
    {
     "data": {
      "text/plain": [
       "array([[-0.04912994, -0.212     ,  0.        ],\n",
       "       [-0.39184138, -0.212     ,  0.        ]])"
      ]
     },
     "execution_count": 43,
     "metadata": {},
     "output_type": "execute_result"
    }
   ],
   "source": [
    "env2.reset()"
   ]
  },
  {
   "cell_type": "code",
   "execution_count": 44,
   "metadata": {},
   "outputs": [
    {
     "data": {
      "text/plain": [
       "(array([[-0.04907994, -0.2192    , -0.05      ],\n",
       "        [-0.39179138, -0.2192    , -0.05      ]]),\n",
       " array([-0.09018401, -0.02164172]),\n",
       " array([False, False]),\n",
       " None)"
      ]
     },
     "execution_count": 44,
     "metadata": {},
     "output_type": "execute_result"
    }
   ],
   "source": [
    "env2.step([-1,-1])"
   ]
  },
  {
   "cell_type": "code",
   "execution_count": 35,
   "metadata": {},
   "outputs": [
    {
     "data": {
      "text/plain": [
       "array([1.])"
      ]
     },
     "execution_count": 35,
     "metadata": {},
     "output_type": "execute_result"
    }
   ],
   "source": [
    "env2.act_std"
   ]
  },
  {
   "cell_type": "code",
   "execution_count": null,
   "metadata": {},
   "outputs": [],
   "source": []
  }
 ],
 "metadata": {
  "kernelspec": {
   "display_name": "Python (rlagent)",
   "language": "python",
   "name": "rlagent"
  },
  "language_info": {
   "codemirror_mode": {
    "name": "ipython",
    "version": 3
   },
   "file_extension": ".py",
   "mimetype": "text/x-python",
   "name": "python",
   "nbconvert_exporter": "python",
   "pygments_lexer": "ipython3",
   "version": "3.8.5"
  }
 },
 "nbformat": 4,
 "nbformat_minor": 4
}
